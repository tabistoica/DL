{
  "nbformat": 4,
  "nbformat_minor": 0,
  "metadata": {
    "colab": {
      "provenance": [],
      "authorship_tag": "ABX9TyM8NO6obT2e8OywzpbnAqNx",
      "include_colab_link": true
    },
    "kernelspec": {
      "name": "python3",
      "display_name": "Python 3"
    },
    "language_info": {
      "name": "python"
    }
  },
  "cells": [
    {
      "cell_type": "markdown",
      "metadata": {
        "id": "view-in-github",
        "colab_type": "text"
      },
      "source": [
        "<a href=\"https://colab.research.google.com/github/tabistoica/DL/blob/main/cats_vs_dogs.ipynb\" target=\"_parent\"><img src=\"https://colab.research.google.com/assets/colab-badge.svg\" alt=\"Open In Colab\"/></a>"
      ]
    },
    {
      "cell_type": "code",
      "metadata": {
        "colab": {
          "base_uri": "https://localhost:8080/"
        },
        "id": "ZXI71FOlpg9h",
        "outputId": "814df0e6-0509-46ce-cdda-f07b939f5e1d"
      },
      "source": [
        "from google.colab import drive\n",
        "drive.mount('/content/drive')"
      ],
      "execution_count": null,
      "outputs": [
        {
          "output_type": "stream",
          "text": [
            "Mounted at /content/drive\n"
          ],
          "name": "stdout"
        }
      ]
    },
    {
      "cell_type": "code",
      "metadata": {
        "id": "2jczWM3lrnxR"
      },
      "source": [
        "import os, shutil\n",
        "original_dataset_dir = '/content/drive/MyDrive/train'\n",
        "#Path to the directory where the original dataset was uncompressed\n",
        "base_dir = '/content/cats_and_dogs_small'\n",
        "#Directory where you'll store your smaller dataset\n",
        "os.mkdir(base_dir)\n",
        "\n",
        "train_dir = os.path.join(base_dir, 'train')\n",
        "os.mkdir(train_dir)\n",
        "validation_dir = os.path.join(base_dir, 'validation')\n",
        "os.mkdir(validation_dir)\n",
        "test_dir = os.path.join(base_dir, 'test')\n",
        "os.mkdir(test_dir)\n",
        "#Directories for the training, validation, and test splits"
      ],
      "execution_count": null,
      "outputs": []
    },
    {
      "cell_type": "code",
      "metadata": {
        "id": "0wyxNOhgrtlN"
      },
      "source": [
        "train_cats_dir = os.path.join(train_dir, 'cats')\n",
        "os.mkdir(train_cats_dir)\n",
        "#Directory with training cat pictures\n",
        "train_dogs_dir = os.path.join(train_dir, 'dogs')\n",
        "os.mkdir(train_dogs_dir)\n",
        "#Directory with training dog pictures\n",
        "validation_cats_dir = os.path.join(validation_dir, 'cats')\n",
        "os.mkdir(validation_cats_dir)\n",
        "#Directory with validation cat pictures\n",
        "validation_dogs_dir = os.path.join(validation_dir, 'dogs')\n",
        "os.mkdir(validation_dogs_dir)\n",
        "#Directory with validation dog pictures\n",
        "test_cats_dir = os.path.join(test_dir, 'cats')\n",
        "os.mkdir(test_cats_dir) \n",
        "#Directory with test cat pictures\n",
        "test_dogs_dir = os.path.join(test_dir, 'dogs') \n",
        "os.mkdir(test_dogs_dir)\n",
        "#Directory with test dog pictures"
      ],
      "execution_count": null,
      "outputs": []
    },
    {
      "cell_type": "code",
      "metadata": {
        "id": "0dNO19j2ry_i"
      },
      "source": [
        "fnames = ['cat.{}.jpg'.format(i) for i in range(1000)]\n",
        "for fname in fnames:\n",
        "  src = os.path.join(original_dataset_dir, fname)\n",
        "  dst = os.path.join(train_cats_dir, fname)\n",
        "  shutil.copyfile(src, dst)\n",
        "#Copies the first 1,000 cat images to train_cats_dir\n",
        "fnames = ['cat.{}.jpg'.format(i) for i in range(1000, 1500)]\n",
        "for fname in fnames:\n",
        "  src = os.path.join(original_dataset_dir, fname)\n",
        "  dst = os.path.join(validation_cats_dir, fname)\n",
        "  shutil.copyfile(src, dst)\n",
        "#Copies the next 500 cat images to validation_cats_dir"
      ],
      "execution_count": null,
      "outputs": []
    },
    {
      "cell_type": "code",
      "metadata": {
        "id": "b8RDpqISrz3i"
      },
      "source": [
        "fnames = ['cat.{}.jpg'.format(i) for i in range(1500, 2000)]\n",
        "for fname in fnames:\n",
        "  src = os.path.join(original_dataset_dir, fname)\n",
        "  dst = os.path.join(test_cats_dir, fname)\n",
        "  shutil.copyfile(src, dst)\n",
        "#Copies the next 500 cat images to test_cats_dir\n",
        "fnames = ['dog.{}.jpg'.format(i) for i in range(1000)]\n",
        "for fname in fnames:\n",
        "  src = os.path.join(original_dataset_dir, fname)\n",
        "  dst = os.path.join(train_dogs_dir, fname)\n",
        "  shutil.copyfile(src, dst)\n",
        "#Copies the first 1,000 dog images to train_dogs_dir"
      ],
      "execution_count": null,
      "outputs": []
    },
    {
      "cell_type": "code",
      "metadata": {
        "id": "G8TuWCbCr2g7"
      },
      "source": [
        "fnames = ['dog.{}.jpg'.format(i) for i in range(1000, 1500)]\n",
        "for fname in fnames:\n",
        "  src = os.path.join(original_dataset_dir, fname)\n",
        "  dst = os.path.join(validation_dogs_dir, fname)\n",
        "  shutil.copyfile(src, dst)\n",
        "#Copies the next 500 dog images to validation_dogs_dir\n",
        "fnames = ['dog.{}.jpg'.format(i) for i in range(1500, 2000)]\n",
        "for fname in fnames:\n",
        "  src = os.path.join(original_dataset_dir, fname)\n",
        "  dst = os.path.join(test_dogs_dir, fname)\n",
        "  shutil.copyfile(src, dst)\n",
        "#Copies the next 500 dog images to test_dogs_dir"
      ],
      "execution_count": null,
      "outputs": []
    },
    {
      "cell_type": "code",
      "metadata": {
        "colab": {
          "base_uri": "https://localhost:8080/"
        },
        "id": "CVGNBnNTr43j",
        "outputId": "56bda24d-b1a5-4e7c-882b-4a93869ce33d"
      },
      "source": [
        "print('total training cat images:', len(os.listdir(train_cats_dir)))\n",
        "print('total training dog images:', len(os.listdir(train_dogs_dir)))\n",
        "print('total validation cat images:', len(os.listdir(validation_cats_dir)))\n",
        "print('total validation dog images:', len(os.listdir(validation_dogs_dir)))\n",
        "print('total test cat images:', len(os.listdir(test_cats_dir)))\n",
        "print('total test dog images:', len(os.listdir(test_dogs_dir)))"
      ],
      "execution_count": null,
      "outputs": [
        {
          "output_type": "stream",
          "text": [
            "total training cat images: 1000\n",
            "total training dog images: 1000\n",
            "total validation cat images: 500\n",
            "total validation dog images: 500\n",
            "total test cat images: 500\n",
            "total test dog images: 500\n"
          ],
          "name": "stdout"
        }
      ]
    },
    {
      "cell_type": "code",
      "metadata": {
        "id": "GCHUGzxzr6y6"
      },
      "source": [
        "from keras import layers\n",
        "from keras import models\n",
        "model = models.Sequential()\n",
        "model.add(layers.Conv2D(32, (3, 3), activation='relu', input_shape=(150, 150, 3)))\n",
        "model.add(layers.MaxPooling2D((2, 2)))\n",
        "model.add(layers.Conv2D(64, (3, 3), activation='relu'))\n",
        "model.add(layers.MaxPooling2D((2, 2)))\n",
        "model.add(layers.Conv2D(128, (3, 3), activation='relu'))\n",
        "model.add(layers.MaxPooling2D((2, 2)))\n",
        "model.add(layers.Conv2D(128, (3, 3), activation='relu'))\n",
        "model.add(layers.MaxPooling2D((2, 2)))\n",
        "model.add(layers.Flatten())\n",
        "model.add(layers.Dense(512, activation='relu'))\n",
        "model.add(layers.Dense(1, activation='sigmoid'))"
      ],
      "execution_count": null,
      "outputs": []
    },
    {
      "cell_type": "code",
      "metadata": {
        "colab": {
          "base_uri": "https://localhost:8080/"
        },
        "id": "ndTe_H_0r9s6",
        "outputId": "bc94ed24-202c-46c0-e630-05f26baddc26"
      },
      "source": [
        "model.summary()"
      ],
      "execution_count": null,
      "outputs": [
        {
          "output_type": "stream",
          "text": [
            "Model: \"sequential\"\n",
            "_________________________________________________________________\n",
            "Layer (type)                 Output Shape              Param #   \n",
            "=================================================================\n",
            "conv2d (Conv2D)              (None, 148, 148, 32)      896       \n",
            "_________________________________________________________________\n",
            "max_pooling2d (MaxPooling2D) (None, 74, 74, 32)        0         \n",
            "_________________________________________________________________\n",
            "conv2d_1 (Conv2D)            (None, 72, 72, 64)        18496     \n",
            "_________________________________________________________________\n",
            "max_pooling2d_1 (MaxPooling2 (None, 36, 36, 64)        0         \n",
            "_________________________________________________________________\n",
            "conv2d_2 (Conv2D)            (None, 34, 34, 128)       73856     \n",
            "_________________________________________________________________\n",
            "max_pooling2d_2 (MaxPooling2 (None, 17, 17, 128)       0         \n",
            "_________________________________________________________________\n",
            "conv2d_3 (Conv2D)            (None, 15, 15, 128)       147584    \n",
            "_________________________________________________________________\n",
            "max_pooling2d_3 (MaxPooling2 (None, 7, 7, 128)         0         \n",
            "_________________________________________________________________\n",
            "flatten (Flatten)            (None, 6272)              0         \n",
            "_________________________________________________________________\n",
            "dense (Dense)                (None, 512)               3211776   \n",
            "_________________________________________________________________\n",
            "dense_1 (Dense)              (None, 1)                 513       \n",
            "=================================================================\n",
            "Total params: 3,453,121\n",
            "Trainable params: 3,453,121\n",
            "Non-trainable params: 0\n",
            "_________________________________________________________________\n"
          ],
          "name": "stdout"
        }
      ]
    },
    {
      "cell_type": "code",
      "metadata": {
        "id": "8qxVw72tr_-g"
      },
      "source": [
        "from keras import optimizers\n",
        "model.compile(loss='binary_crossentropy', optimizer=optimizers.RMSprop(learning_rate=1e-4), metrics=['accuracy'])"
      ],
      "execution_count": null,
      "outputs": []
    },
    {
      "cell_type": "code",
      "metadata": {
        "colab": {
          "base_uri": "https://localhost:8080/"
        },
        "id": "hHTDTNdKsDTs",
        "outputId": "84ddb03d-a057-4c0f-9e55-a5bebe571d96"
      },
      "source": [
        "from keras.preprocessing.image import ImageDataGenerator\n",
        "\n",
        "train_datagen = ImageDataGenerator(rescale=1./255)\n",
        "test_datagen = ImageDataGenerator(rescale=1./255)\n",
        "#Rescales all images by 1/255\n",
        "\n",
        "train_generator = train_datagen.flow_from_directory(\n",
        "train_dir, #Target directory\n",
        "target_size=(150, 150), #Resizes all images to 150 × 150\n",
        "batch_size=20,\n",
        "class_mode='binary')\n",
        "#Because you use binary_crossentropy loss, you need binary labels.\n",
        "validation_generator = test_datagen.flow_from_directory(\n",
        "validation_dir,\n",
        "target_size=(150, 150),\n",
        "batch_size=20,\n",
        "class_mode='binary')"
      ],
      "execution_count": null,
      "outputs": [
        {
          "output_type": "stream",
          "text": [
            "Found 2000 images belonging to 2 classes.\n",
            "Found 1000 images belonging to 2 classes.\n"
          ],
          "name": "stdout"
        }
      ]
    },
    {
      "cell_type": "code",
      "metadata": {
        "colab": {
          "base_uri": "https://localhost:8080/"
        },
        "id": "EO8T49NHsIIE",
        "outputId": "4348ccdd-6eb2-40f9-e0f3-0d56d8c5ab73"
      },
      "source": [
        "for data_batch, labels_batch in train_generator:\n",
        "  print('data batch shape:', data_batch.shape)\n",
        "  print('labels batch shape:', labels_batch.shape)\n",
        "  break"
      ],
      "execution_count": null,
      "outputs": [
        {
          "output_type": "stream",
          "text": [
            "data batch shape: (20, 150, 150, 3)\n",
            "labels batch shape: (20,)\n"
          ],
          "name": "stdout"
        }
      ]
    },
    {
      "cell_type": "code",
      "metadata": {
        "colab": {
          "base_uri": "https://localhost:8080/"
        },
        "id": "a9DyFnB8sKIp",
        "outputId": "1142bc76-71b4-443b-829c-dd8da71d91e8"
      },
      "source": [
        "history = model.fit(\n",
        "train_generator,\n",
        "steps_per_epoch=100,\n",
        "epochs=30,\n",
        "validation_data=validation_generator,\n",
        "validation_steps=50)"
      ],
      "execution_count": null,
      "outputs": [
        {
          "output_type": "stream",
          "text": [
            "Epoch 1/30\n",
            "100/100 [==============================] - 104s 883ms/step - loss: 0.7084 - accuracy: 0.5306 - val_loss: 0.6704 - val_accuracy: 0.5970\n",
            "Epoch 2/30\n",
            "100/100 [==============================] - 87s 871ms/step - loss: 0.6708 - accuracy: 0.6062 - val_loss: 0.6347 - val_accuracy: 0.6490\n",
            "Epoch 3/30\n",
            "100/100 [==============================] - 87s 873ms/step - loss: 0.6319 - accuracy: 0.6400 - val_loss: 0.6307 - val_accuracy: 0.6310\n",
            "Epoch 4/30\n",
            "100/100 [==============================] - 88s 881ms/step - loss: 0.5795 - accuracy: 0.6945 - val_loss: 0.5924 - val_accuracy: 0.6790\n",
            "Epoch 5/30\n",
            "100/100 [==============================] - 89s 892ms/step - loss: 0.5456 - accuracy: 0.7312 - val_loss: 0.5774 - val_accuracy: 0.6830\n",
            "Epoch 6/30\n",
            "100/100 [==============================] - 89s 893ms/step - loss: 0.5167 - accuracy: 0.7411 - val_loss: 0.6422 - val_accuracy: 0.6560\n",
            "Epoch 7/30\n",
            "100/100 [==============================] - 89s 895ms/step - loss: 0.5027 - accuracy: 0.7425 - val_loss: 0.5800 - val_accuracy: 0.6930\n",
            "Epoch 8/30\n",
            "100/100 [==============================] - 90s 898ms/step - loss: 0.4529 - accuracy: 0.7869 - val_loss: 0.5695 - val_accuracy: 0.7020\n",
            "Epoch 9/30\n",
            "100/100 [==============================] - 90s 900ms/step - loss: 0.4294 - accuracy: 0.7963 - val_loss: 0.5406 - val_accuracy: 0.7280\n",
            "Epoch 10/30\n",
            "100/100 [==============================] - 90s 899ms/step - loss: 0.4116 - accuracy: 0.8010 - val_loss: 0.5597 - val_accuracy: 0.7110\n",
            "Epoch 11/30\n",
            "100/100 [==============================] - 89s 887ms/step - loss: 0.3839 - accuracy: 0.8223 - val_loss: 0.5348 - val_accuracy: 0.7310\n",
            "Epoch 12/30\n",
            "100/100 [==============================] - 88s 880ms/step - loss: 0.3883 - accuracy: 0.8302 - val_loss: 0.5389 - val_accuracy: 0.7380\n",
            "Epoch 13/30\n",
            "100/100 [==============================] - 89s 888ms/step - loss: 0.3449 - accuracy: 0.8483 - val_loss: 0.7806 - val_accuracy: 0.6400\n",
            "Epoch 14/30\n",
            "100/100 [==============================] - 89s 891ms/step - loss: 0.3283 - accuracy: 0.8692 - val_loss: 0.6446 - val_accuracy: 0.7240\n",
            "Epoch 15/30\n",
            "100/100 [==============================] - 89s 892ms/step - loss: 0.3014 - accuracy: 0.8631 - val_loss: 0.5578 - val_accuracy: 0.7400\n",
            "Epoch 16/30\n",
            "100/100 [==============================] - 89s 891ms/step - loss: 0.2913 - accuracy: 0.8877 - val_loss: 0.5747 - val_accuracy: 0.7450\n",
            "Epoch 17/30\n",
            "100/100 [==============================] - 89s 892ms/step - loss: 0.2591 - accuracy: 0.8943 - val_loss: 0.5980 - val_accuracy: 0.7420\n",
            "Epoch 18/30\n",
            "100/100 [==============================] - 90s 896ms/step - loss: 0.2370 - accuracy: 0.9014 - val_loss: 0.5972 - val_accuracy: 0.7430\n",
            "Epoch 19/30\n",
            "100/100 [==============================] - 90s 897ms/step - loss: 0.2056 - accuracy: 0.9286 - val_loss: 0.5918 - val_accuracy: 0.7540\n",
            "Epoch 20/30\n",
            "100/100 [==============================] - 90s 897ms/step - loss: 0.1919 - accuracy: 0.9351 - val_loss: 0.6863 - val_accuracy: 0.7370\n",
            "Epoch 21/30\n",
            "100/100 [==============================] - 90s 900ms/step - loss: 0.1662 - accuracy: 0.9425 - val_loss: 0.6484 - val_accuracy: 0.7390\n",
            "Epoch 22/30\n",
            "100/100 [==============================] - 89s 893ms/step - loss: 0.1525 - accuracy: 0.9509 - val_loss: 0.7076 - val_accuracy: 0.7310\n",
            "Epoch 23/30\n",
            "100/100 [==============================] - 89s 892ms/step - loss: 0.1408 - accuracy: 0.9531 - val_loss: 0.7391 - val_accuracy: 0.7270\n",
            "Epoch 24/30\n",
            "100/100 [==============================] - 89s 892ms/step - loss: 0.1279 - accuracy: 0.9614 - val_loss: 0.7105 - val_accuracy: 0.7290\n",
            "Epoch 25/30\n",
            "100/100 [==============================] - 89s 892ms/step - loss: 0.1102 - accuracy: 0.9669 - val_loss: 0.7950 - val_accuracy: 0.7420\n",
            "Epoch 26/30\n",
            "100/100 [==============================] - 88s 883ms/step - loss: 0.1093 - accuracy: 0.9683 - val_loss: 0.7975 - val_accuracy: 0.7420\n",
            "Epoch 27/30\n",
            "100/100 [==============================] - 88s 883ms/step - loss: 0.0815 - accuracy: 0.9784 - val_loss: 0.8291 - val_accuracy: 0.7450\n",
            "Epoch 28/30\n",
            "100/100 [==============================] - 88s 883ms/step - loss: 0.0701 - accuracy: 0.9808 - val_loss: 0.9059 - val_accuracy: 0.7340\n",
            "Epoch 29/30\n",
            "100/100 [==============================] - 88s 884ms/step - loss: 0.0678 - accuracy: 0.9805 - val_loss: 0.8806 - val_accuracy: 0.7380\n",
            "Epoch 30/30\n",
            "100/100 [==============================] - 88s 884ms/step - loss: 0.0526 - accuracy: 0.9874 - val_loss: 0.9578 - val_accuracy: 0.7340\n"
          ],
          "name": "stdout"
        }
      ]
    },
    {
      "cell_type": "code",
      "metadata": {
        "id": "8Bh6vapPsMPz"
      },
      "source": [
        "model.save('cats_and_dogs_small_1.h5')"
      ],
      "execution_count": null,
      "outputs": []
    },
    {
      "cell_type": "code",
      "metadata": {
        "id": "R7x1QYblsOKy",
        "colab": {
          "base_uri": "https://localhost:8080/",
          "height": 545
        },
        "outputId": "2a1e529e-5609-4daa-eac4-c5aaef8008fc"
      },
      "source": [
        "import matplotlib.pyplot as plt\n",
        "\n",
        "accuracy = history.history['accuracy']\n",
        "val_accuracy = history.history['val_accuracy']\n",
        "loss = history.history['loss']\n",
        "val_loss = history.history['val_loss']\n",
        "\n",
        "epochs = range(1, len(accuracy) + 1)\n",
        "\n",
        "plt.plot(epochs, accuracy, 'bo', label='Training acc')\n",
        "plt.plot(epochs, val_accuracy, 'b', label='Validation acc')\n",
        "plt.title('Training and validation accuracy')\n",
        "plt.legend()\n",
        "\n",
        "plt.figure()\n",
        "\n",
        "plt.plot(epochs, loss, 'bo', label='Training loss')\n",
        "plt.plot(epochs, val_loss, 'b', label='Validation loss')\n",
        "plt.title('Training and validation loss')\n",
        "plt.legend()\n",
        "\n",
        "plt.show()"
      ],
      "execution_count": null,
      "outputs": [
        {
          "output_type": "display_data",
          "data": {
            "image/png": "[encoded data removed]",
            "text/plain": [
              "<Figure size 432x288 with 1 Axes>"
            ]
          },
          "metadata": {
            "tags": [],
            "needs_background": "light"
          }
        },
        {
          "output_type": "display_data",
          "data": {
            "image/png": "[encoded data removed]",
            "text/plain": [
              "<Figure size 432x288 with 1 Axes>"
            ]
          },
          "metadata": {
            "tags": [],
            "needs_background": "light"
          }
        }
      ]
    },
    {
      "cell_type": "code",
      "metadata": {
        "id": "GPLD8xl2R7nA"
      },
      "source": [
        "model = models.Sequential()\n",
        "model.add(layers.Conv2D(32, (3, 3), activation='relu',\n",
        "          input_shape=(150, 150, 3)))\n",
        "model.add(layers.MaxPooling2D((2, 2)))\n",
        "model.add(layers.Conv2D(64, (3, 3), activation='relu'))\n",
        "model.add(layers.MaxPooling2D((2, 2)))\n",
        "model.add(layers.Conv2D(128, (3, 3), activation='relu'))\n",
        "model.add(layers.MaxPooling2D((2, 2)))\n",
        "model.add(layers.Conv2D(128, (3, 3), activation='relu'))\n",
        "model.add(layers.MaxPooling2D((2, 2)))\n",
        "model.add(layers.Flatten())\n",
        "model.add(layers.Dropout(0.5))\n",
        "model.add(layers.Dense(512, activation='relu'))\n",
        "model.add(layers.Dense(1, activation='sigmoid'))\n",
        "model.compile(loss='binary_crossentropy',\n",
        "              optimizer=optimizers.RMSprop(lr=1e-4),\n",
        "              metrics=['acc'])"
      ],
      "execution_count": null,
      "outputs": []
    },
    {
      "cell_type": "code",
      "metadata": {
        "id": "P_DCi0awWQah"
      },
      "source": [
        "from keras.preprocessing.image import ImageDataGenerator\n",
        "train_datagen = ImageDataGenerator(\n",
        "rescale=1./255,\n",
        "rotation_range=40,\n",
        "width_shift_range=0.2,\n",
        "height_shift_range=0.2,\n",
        "shear_range=0.2,\n",
        "zoom_range=0.2,\n",
        "horizontal_flip=True)"
      ],
      "execution_count": null,
      "outputs": []
    },
    {
      "cell_type": "code",
      "metadata": {
        "colab": {
          "base_uri": "https://localhost:8080/"
        },
        "id": "odI1IQjeW3gn",
        "outputId": "9dec71d3-8d3b-4fdc-b6d5-d8f058063e7b"
      },
      "source": [
        "test_datagen = ImageDataGenerator(rescale=1./255)\n",
        "#Note that the validation data shouldn't be augmented!\n",
        "\n",
        "train_generator = train_datagen.flow_from_directory(\n",
        "  train_dir, #Target directory\n",
        "  target_size=(150, 150), #Resizes all images to 150 × 150\n",
        "  batch_size=20,\n",
        "  class_mode='binary')\n",
        "  #Because you use binary_crossentropy loss, you need binary labels.\n",
        "\n",
        "validation_generator = test_datagen.flow_from_directory(\n",
        "  validation_dir,\n",
        "  target_size=(150, 150),\n",
        "  batch_size=20,\n",
        "  class_mode='binary')\n",
        "\n",
        "history = model.fit(\n",
        "  train_generator,\n",
        "  steps_per_epoch=100,\n",
        "  epochs=100,\n",
        "  validation_data=validation_generator,\n",
        "  validation_steps=50)"
      ],
      "execution_count": null,
      "outputs": [
        {
          "output_type": "stream",
          "text": [
            "Found 2000 images belonging to 2 classes.\n",
            "Found 1000 images belonging to 2 classes.\n",
            "Epoch 1/100\n",
            "100/100 [==============================] - 128s 1s/step - loss: 0.6970 - accuracy: 0.5134 - val_loss: 0.6759 - val_accuracy: 0.5920\n",
            "Epoch 2/100\n",
            "100/100 [==============================] - 109s 1s/step - loss: 0.6855 - accuracy: 0.5344 - val_loss: 0.6565 - val_accuracy: 0.6290\n",
            "Epoch 3/100\n",
            "100/100 [==============================] - 109s 1s/step - loss: 0.6648 - accuracy: 0.6054 - val_loss: 0.6479 - val_accuracy: 0.6090\n",
            "Epoch 4/100\n",
            "100/100 [==============================] - 109s 1s/step - loss: 0.6486 - accuracy: 0.6133 - val_loss: 0.6769 - val_accuracy: 0.5440\n",
            "Epoch 5/100\n",
            "100/100 [==============================] - 109s 1s/step - loss: 0.6308 - accuracy: 0.6360 - val_loss: 0.6021 - val_accuracy: 0.6620\n",
            "Epoch 6/100\n",
            "100/100 [==============================] - 109s 1s/step - loss: 0.6242 - accuracy: 0.6520 - val_loss: 0.6139 - val_accuracy: 0.6440\n",
            "Epoch 7/100\n",
            "100/100 [==============================] - 109s 1s/step - loss: 0.6167 - accuracy: 0.6617 - val_loss: 0.5713 - val_accuracy: 0.7050\n",
            "Epoch 8/100\n",
            "100/100 [==============================] - 109s 1s/step - loss: 0.6047 - accuracy: 0.6794 - val_loss: 0.5640 - val_accuracy: 0.7140\n",
            "Epoch 9/100\n",
            "100/100 [==============================] - 109s 1s/step - loss: 0.6137 - accuracy: 0.6504 - val_loss: 0.5585 - val_accuracy: 0.6940\n",
            "Epoch 10/100\n",
            "100/100 [==============================] - 109s 1s/step - loss: 0.5964 - accuracy: 0.6696 - val_loss: 0.5842 - val_accuracy: 0.6880\n",
            "Epoch 11/100\n",
            "100/100 [==============================] - 109s 1s/step - loss: 0.5607 - accuracy: 0.7196 - val_loss: 0.5741 - val_accuracy: 0.6870\n",
            "Epoch 12/100\n",
            "100/100 [==============================] - 109s 1s/step - loss: 0.5878 - accuracy: 0.6815 - val_loss: 0.6444 - val_accuracy: 0.6320\n",
            "Epoch 13/100\n",
            "100/100 [==============================] - 110s 1s/step - loss: 0.5802 - accuracy: 0.6936 - val_loss: 0.5932 - val_accuracy: 0.6890\n",
            "Epoch 14/100\n",
            "100/100 [==============================] - 110s 1s/step - loss: 0.5646 - accuracy: 0.6958 - val_loss: 0.5379 - val_accuracy: 0.7230\n",
            "Epoch 15/100\n",
            "100/100 [==============================] - 110s 1s/step - loss: 0.5837 - accuracy: 0.6813 - val_loss: 0.5939 - val_accuracy: 0.6810\n",
            "Epoch 16/100\n",
            "100/100 [==============================] - 110s 1s/step - loss: 0.5312 - accuracy: 0.7355 - val_loss: 0.5317 - val_accuracy: 0.7260\n",
            "Epoch 17/100\n",
            "100/100 [==============================] - 110s 1s/step - loss: 0.5295 - accuracy: 0.7434 - val_loss: 0.5229 - val_accuracy: 0.7300\n",
            "Epoch 18/100\n",
            "100/100 [==============================] - 109s 1s/step - loss: 0.5297 - accuracy: 0.7213 - val_loss: 0.5530 - val_accuracy: 0.7110\n",
            "Epoch 19/100\n",
            "100/100 [==============================] - 110s 1s/step - loss: 0.5397 - accuracy: 0.7314 - val_loss: 0.5636 - val_accuracy: 0.7000\n",
            "Epoch 20/100\n",
            "100/100 [==============================] - 110s 1s/step - loss: 0.5077 - accuracy: 0.7543 - val_loss: 0.5212 - val_accuracy: 0.7320\n",
            "Epoch 21/100\n",
            "100/100 [==============================] - 110s 1s/step - loss: 0.5380 - accuracy: 0.7276 - val_loss: 0.6329 - val_accuracy: 0.6810\n",
            "Epoch 22/100\n",
            "100/100 [==============================] - 110s 1s/step - loss: 0.5267 - accuracy: 0.7419 - val_loss: 0.5153 - val_accuracy: 0.7300\n",
            "Epoch 23/100\n",
            "100/100 [==============================] - 110s 1s/step - loss: 0.4985 - accuracy: 0.7612 - val_loss: 0.4834 - val_accuracy: 0.7550\n",
            "Epoch 24/100\n",
            "100/100 [==============================] - 109s 1s/step - loss: 0.5120 - accuracy: 0.7434 - val_loss: 0.5662 - val_accuracy: 0.7010\n",
            "Epoch 25/100\n",
            "100/100 [==============================] - 109s 1s/step - loss: 0.5422 - accuracy: 0.7199 - val_loss: 0.4953 - val_accuracy: 0.7490\n",
            "Epoch 26/100\n",
            "100/100 [==============================] - 109s 1s/step - loss: 0.4927 - accuracy: 0.7307 - val_loss: 0.5061 - val_accuracy: 0.7540\n",
            "Epoch 27/100\n",
            "100/100 [==============================] - 109s 1s/step - loss: 0.5244 - accuracy: 0.7390 - val_loss: 0.4769 - val_accuracy: 0.7700\n",
            "Epoch 28/100\n",
            "100/100 [==============================] - 109s 1s/step - loss: 0.5146 - accuracy: 0.7456 - val_loss: 0.5148 - val_accuracy: 0.7370\n",
            "Epoch 29/100\n",
            "100/100 [==============================] - 110s 1s/step - loss: 0.4980 - accuracy: 0.7593 - val_loss: 0.4808 - val_accuracy: 0.7670\n",
            "Epoch 30/100\n",
            "100/100 [==============================] - 110s 1s/step - loss: 0.4819 - accuracy: 0.7680 - val_loss: 0.4760 - val_accuracy: 0.7700\n",
            "Epoch 31/100\n",
            "100/100 [==============================] - 110s 1s/step - loss: 0.5112 - accuracy: 0.7517 - val_loss: 0.5214 - val_accuracy: 0.7350\n",
            "Epoch 32/100\n",
            "100/100 [==============================] - 111s 1s/step - loss: 0.5001 - accuracy: 0.7503 - val_loss: 0.5201 - val_accuracy: 0.7460\n",
            "Epoch 33/100\n",
            "100/100 [==============================] - 109s 1s/step - loss: 0.4882 - accuracy: 0.7705 - val_loss: 0.4829 - val_accuracy: 0.7720\n",
            "Epoch 34/100\n",
            "100/100 [==============================] - 111s 1s/step - loss: 0.4856 - accuracy: 0.7621 - val_loss: 0.5158 - val_accuracy: 0.7390\n",
            "Epoch 35/100\n",
            "100/100 [==============================] - 110s 1s/step - loss: 0.4605 - accuracy: 0.7871 - val_loss: 0.4750 - val_accuracy: 0.7770\n",
            "Epoch 36/100\n",
            "100/100 [==============================] - 109s 1s/step - loss: 0.4784 - accuracy: 0.7658 - val_loss: 0.4876 - val_accuracy: 0.7630\n",
            "Epoch 37/100\n",
            "100/100 [==============================] - 109s 1s/step - loss: 0.4749 - accuracy: 0.7669 - val_loss: 0.5247 - val_accuracy: 0.7370\n",
            "Epoch 38/100\n",
            "100/100 [==============================] - 109s 1s/step - loss: 0.4741 - accuracy: 0.7650 - val_loss: 0.4796 - val_accuracy: 0.7640\n",
            "Epoch 39/100\n",
            "100/100 [==============================] - 110s 1s/step - loss: 0.4725 - accuracy: 0.7709 - val_loss: 0.4575 - val_accuracy: 0.7680\n",
            "Epoch 40/100\n",
            "100/100 [==============================] - 110s 1s/step - loss: 0.4790 - accuracy: 0.7764 - val_loss: 0.4576 - val_accuracy: 0.7790\n",
            "Epoch 41/100\n",
            "100/100 [==============================] - 110s 1s/step - loss: 0.4507 - accuracy: 0.7812 - val_loss: 0.4627 - val_accuracy: 0.7860\n",
            "Epoch 42/100\n",
            "100/100 [==============================] - 110s 1s/step - loss: 0.4634 - accuracy: 0.7763 - val_loss: 0.4717 - val_accuracy: 0.7810\n",
            "Epoch 43/100\n",
            "100/100 [==============================] - 111s 1s/step - loss: 0.4853 - accuracy: 0.7686 - val_loss: 0.4654 - val_accuracy: 0.7800\n",
            "Epoch 44/100\n",
            "100/100 [==============================] - 111s 1s/step - loss: 0.4790 - accuracy: 0.7716 - val_loss: 0.5184 - val_accuracy: 0.7560\n",
            "Epoch 45/100\n",
            "100/100 [==============================] - 110s 1s/step - loss: 0.4584 - accuracy: 0.7804 - val_loss: 0.4671 - val_accuracy: 0.7750\n",
            "Epoch 46/100\n",
            "100/100 [==============================] - 111s 1s/step - loss: 0.4645 - accuracy: 0.7938 - val_loss: 0.4552 - val_accuracy: 0.7820\n",
            "Epoch 47/100\n",
            "100/100 [==============================] - 110s 1s/step - loss: 0.4621 - accuracy: 0.7892 - val_loss: 0.4694 - val_accuracy: 0.7740\n",
            "Epoch 48/100\n",
            "100/100 [==============================] - 110s 1s/step - loss: 0.4546 - accuracy: 0.7845 - val_loss: 0.5150 - val_accuracy: 0.7390\n",
            "Epoch 49/100\n",
            "100/100 [==============================] - 110s 1s/step - loss: 0.4380 - accuracy: 0.8078 - val_loss: 0.4602 - val_accuracy: 0.7760\n",
            "Epoch 50/100\n",
            "100/100 [==============================] - 110s 1s/step - loss: 0.4598 - accuracy: 0.7804 - val_loss: 0.4406 - val_accuracy: 0.7840\n",
            "Epoch 51/100\n",
            "100/100 [==============================] - 110s 1s/step - loss: 0.4653 - accuracy: 0.7753 - val_loss: 0.4449 - val_accuracy: 0.7960\n",
            "Epoch 52/100\n",
            "100/100 [==============================] - 110s 1s/step - loss: 0.4294 - accuracy: 0.7966 - val_loss: 0.4599 - val_accuracy: 0.7800\n",
            "Epoch 53/100\n",
            "100/100 [==============================] - 111s 1s/step - loss: 0.4300 - accuracy: 0.7982 - val_loss: 0.4319 - val_accuracy: 0.7850\n",
            "Epoch 54/100\n",
            "100/100 [==============================] - 110s 1s/step - loss: 0.4236 - accuracy: 0.7919 - val_loss: 0.4412 - val_accuracy: 0.8050\n",
            "Epoch 55/100\n",
            "100/100 [==============================] - 111s 1s/step - loss: 0.4523 - accuracy: 0.7861 - val_loss: 0.4745 - val_accuracy: 0.7760\n",
            "Epoch 56/100\n",
            "100/100 [==============================] - 110s 1s/step - loss: 0.4283 - accuracy: 0.7972 - val_loss: 0.5114 - val_accuracy: 0.7580\n",
            "Epoch 57/100\n",
            "100/100 [==============================] - 110s 1s/step - loss: 0.4182 - accuracy: 0.8129 - val_loss: 0.4616 - val_accuracy: 0.7840\n",
            "Epoch 58/100\n",
            "100/100 [==============================] - 110s 1s/step - loss: 0.4232 - accuracy: 0.8152 - val_loss: 0.4468 - val_accuracy: 0.7930\n",
            "Epoch 59/100\n",
            "100/100 [==============================] - 110s 1s/step - loss: 0.4417 - accuracy: 0.7887 - val_loss: 0.4906 - val_accuracy: 0.7670\n",
            "Epoch 60/100\n",
            "100/100 [==============================] - 110s 1s/step - loss: 0.4118 - accuracy: 0.8209 - val_loss: 0.4251 - val_accuracy: 0.8090\n",
            "Epoch 61/100\n",
            "100/100 [==============================] - 110s 1s/step - loss: 0.4217 - accuracy: 0.8026 - val_loss: 0.4533 - val_accuracy: 0.7850\n",
            "Epoch 62/100\n",
            "100/100 [==============================] - 110s 1s/step - loss: 0.4245 - accuracy: 0.8117 - val_loss: 0.4792 - val_accuracy: 0.7760\n",
            "Epoch 63/100\n",
            "100/100 [==============================] - 110s 1s/step - loss: 0.4306 - accuracy: 0.8047 - val_loss: 0.4828 - val_accuracy: 0.7790\n",
            "Epoch 64/100\n",
            "100/100 [==============================] - 110s 1s/step - loss: 0.4441 - accuracy: 0.8004 - val_loss: 0.4680 - val_accuracy: 0.7910\n",
            "Epoch 65/100\n",
            "100/100 [==============================] - 110s 1s/step - loss: 0.4228 - accuracy: 0.7976 - val_loss: 0.4391 - val_accuracy: 0.7920\n",
            "Epoch 66/100\n",
            "100/100 [==============================] - 110s 1s/step - loss: 0.4246 - accuracy: 0.7932 - val_loss: 0.4503 - val_accuracy: 0.7920\n",
            "Epoch 67/100\n",
            "100/100 [==============================] - 110s 1s/step - loss: 0.4285 - accuracy: 0.8064 - val_loss: 0.4501 - val_accuracy: 0.7840\n",
            "Epoch 68/100\n",
            "100/100 [==============================] - 111s 1s/step - loss: 0.4199 - accuracy: 0.8069 - val_loss: 0.4122 - val_accuracy: 0.8110\n",
            "Epoch 69/100\n",
            "100/100 [==============================] - 110s 1s/step - loss: 0.4081 - accuracy: 0.8160 - val_loss: 0.4226 - val_accuracy: 0.8160\n",
            "Epoch 70/100\n",
            "100/100 [==============================] - 110s 1s/step - loss: 0.4098 - accuracy: 0.8098 - val_loss: 0.4987 - val_accuracy: 0.7600\n",
            "Epoch 71/100\n",
            "100/100 [==============================] - 110s 1s/step - loss: 0.3921 - accuracy: 0.8311 - val_loss: 0.4276 - val_accuracy: 0.8040\n",
            "Epoch 72/100\n",
            "100/100 [==============================] - 110s 1s/step - loss: 0.4102 - accuracy: 0.8131 - val_loss: 0.4517 - val_accuracy: 0.8020\n",
            "Epoch 73/100\n",
            "100/100 [==============================] - 110s 1s/step - loss: 0.4203 - accuracy: 0.8063 - val_loss: 0.4465 - val_accuracy: 0.7890\n",
            "Epoch 74/100\n",
            "100/100 [==============================] - 110s 1s/step - loss: 0.4015 - accuracy: 0.8235 - val_loss: 0.4470 - val_accuracy: 0.7920\n",
            "Epoch 75/100\n",
            "100/100 [==============================] - 110s 1s/step - loss: 0.4007 - accuracy: 0.8095 - val_loss: 0.4876 - val_accuracy: 0.7860\n",
            "Epoch 76/100\n",
            "100/100 [==============================] - 110s 1s/step - loss: 0.3834 - accuracy: 0.8257 - val_loss: 0.4449 - val_accuracy: 0.7970\n",
            "Epoch 77/100\n",
            "100/100 [==============================] - 110s 1s/step - loss: 0.3828 - accuracy: 0.8326 - val_loss: 0.4473 - val_accuracy: 0.7800\n",
            "Epoch 78/100\n",
            "100/100 [==============================] - 110s 1s/step - loss: 0.3814 - accuracy: 0.8312 - val_loss: 0.4204 - val_accuracy: 0.7990\n",
            "Epoch 79/100\n",
            "100/100 [==============================] - 110s 1s/step - loss: 0.3714 - accuracy: 0.8304 - val_loss: 0.4092 - val_accuracy: 0.8140\n",
            "Epoch 80/100\n",
            "100/100 [==============================] - 110s 1s/step - loss: 0.3751 - accuracy: 0.8304 - val_loss: 0.4279 - val_accuracy: 0.8140\n",
            "Epoch 81/100\n",
            "100/100 [==============================] - 110s 1s/step - loss: 0.3791 - accuracy: 0.8239 - val_loss: 0.4414 - val_accuracy: 0.8060\n",
            "Epoch 82/100\n",
            "100/100 [==============================] - 110s 1s/step - loss: 0.3966 - accuracy: 0.8221 - val_loss: 0.4493 - val_accuracy: 0.7900\n",
            "Epoch 83/100\n",
            "100/100 [==============================] - 110s 1s/step - loss: 0.3822 - accuracy: 0.8347 - val_loss: 0.4534 - val_accuracy: 0.7940\n",
            "Epoch 84/100\n",
            "100/100 [==============================] - 112s 1s/step - loss: 0.3595 - accuracy: 0.8400 - val_loss: 0.5261 - val_accuracy: 0.7650\n",
            "Epoch 85/100\n",
            "100/100 [==============================] - 115s 1s/step - loss: 0.3474 - accuracy: 0.8500 - val_loss: 0.4447 - val_accuracy: 0.7910\n",
            "Epoch 86/100\n",
            "100/100 [==============================] - 112s 1s/step - loss: 0.3600 - accuracy: 0.8203 - val_loss: 0.4688 - val_accuracy: 0.7980\n",
            "Epoch 87/100\n",
            "100/100 [==============================] - 110s 1s/step - loss: 0.3491 - accuracy: 0.8397 - val_loss: 0.4459 - val_accuracy: 0.7940\n",
            "Epoch 88/100\n",
            "100/100 [==============================] - 111s 1s/step - loss: 0.3796 - accuracy: 0.8277 - val_loss: 0.4505 - val_accuracy: 0.8030\n",
            "Epoch 89/100\n",
            "100/100 [==============================] - 110s 1s/step - loss: 0.3519 - accuracy: 0.8444 - val_loss: 0.4887 - val_accuracy: 0.7870\n",
            "Epoch 90/100\n",
            "100/100 [==============================] - 110s 1s/step - loss: 0.3945 - accuracy: 0.8285 - val_loss: 0.4177 - val_accuracy: 0.8220\n",
            "Epoch 91/100\n",
            "100/100 [==============================] - 110s 1s/step - loss: 0.3580 - accuracy: 0.8452 - val_loss: 0.4206 - val_accuracy: 0.8020\n",
            "Epoch 92/100\n",
            "100/100 [==============================] - 110s 1s/step - loss: 0.3699 - accuracy: 0.8354 - val_loss: 0.4011 - val_accuracy: 0.8000\n",
            "Epoch 93/100\n",
            "100/100 [==============================] - 110s 1s/step - loss: 0.3842 - accuracy: 0.8266 - val_loss: 0.4371 - val_accuracy: 0.7970\n",
            "Epoch 94/100\n",
            "100/100 [==============================] - 110s 1s/step - loss: 0.3425 - accuracy: 0.8580 - val_loss: 0.4567 - val_accuracy: 0.8020\n",
            "Epoch 95/100\n",
            "100/100 [==============================] - 110s 1s/step - loss: 0.3432 - accuracy: 0.8510 - val_loss: 0.4002 - val_accuracy: 0.8260\n",
            "Epoch 96/100\n",
            "100/100 [==============================] - 110s 1s/step - loss: 0.3296 - accuracy: 0.8514 - val_loss: 0.4402 - val_accuracy: 0.7970\n",
            "Epoch 97/100\n",
            "100/100 [==============================] - 110s 1s/step - loss: 0.3393 - accuracy: 0.8565 - val_loss: 0.4378 - val_accuracy: 0.8040\n",
            "Epoch 98/100\n",
            "100/100 [==============================] - 111s 1s/step - loss: 0.3487 - accuracy: 0.8444 - val_loss: 0.4327 - val_accuracy: 0.8110\n",
            "Epoch 99/100\n",
            "100/100 [==============================] - 111s 1s/step - loss: 0.3790 - accuracy: 0.8201 - val_loss: 0.4240 - val_accuracy: 0.8130\n",
            "Epoch 100/100\n",
            "100/100 [==============================] - 110s 1s/step - loss: 0.3407 - accuracy: 0.8537 - val_loss: 0.3933 - val_accuracy: 0.8270\n"
          ],
          "name": "stdout"
        }
      ]
    },
    {
      "cell_type": "code",
      "metadata": {
        "id": "kqmGKeN8He7W"
      },
      "source": [
        "model.save('cats_and_dogs_small_2.h5')"
      ],
      "execution_count": null,
      "outputs": []
    },
    {
      "cell_type": "code",
      "metadata": {
        "colab": {
          "base_uri": "https://localhost:8080/",
          "height": 545
        },
        "id": "r_Yh4bNgHi19",
        "outputId": "3e345f05-0145-4b52-ef5b-5a7a3cfba2e9"
      },
      "source": [
        "import matplotlib.pyplot as plt\n",
        "\n",
        "accuracy = history.history['accuracy']\n",
        "val_accuracy = history.history['val_accuracy']\n",
        "loss = history.history['loss']\n",
        "val_loss = history.history['val_loss']\n",
        "\n",
        "epochs = range(1, len(accuracy) + 1)\n",
        "\n",
        "plt.plot(epochs, accuracy, 'bo', label='Training acc')\n",
        "plt.plot(epochs, val_accuracy, 'b', label='Validation acc')\n",
        "plt.title('Training and validation accuracy')\n",
        "plt.legend()\n",
        "\n",
        "plt.figure()\n",
        "\n",
        "plt.plot(epochs, loss, 'bo', label='Training loss')\n",
        "plt.plot(epochs, val_loss, 'b', label='Validation loss')\n",
        "plt.title('Training and validation loss')\n",
        "plt.legend()\n",
        "\n",
        "plt.show()"
      ],
      "execution_count": null,
      "outputs": [
        {
          "output_type": "display_data",
          "data": {
            "image/png": "[encoded data removed]",
            "text/plain": [
              "<Figure size 432x288 with 1 Axes>"
            ]
          },
          "metadata": {
            "tags": [],
            "needs_background": "light"
          }
        },
        {
          "output_type": "display_data",
          "data": {
            "image/png": "[encoded data removed]",
            "text/plain": [
              "<Figure size 432x288 with 1 Axes>"
            ]
          },
          "metadata": {
            "tags": [],
            "needs_background": "light"
          }
        }
      ]
    }
  ]
}